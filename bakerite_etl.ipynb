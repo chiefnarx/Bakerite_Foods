{
 "cells": [
  {
   "cell_type": "code",
   "execution_count": null,
   "id": "929a2d41",
   "metadata": {},
   "outputs": [
    {
     "name": "stdout",
     "output_type": "stream",
     "text": [
      "Requirement already satisfied: pandas in c:\\users\\luk\\anaconda3\\lib\\site-packages (2.2.2)\n",
      "Requirement already satisfied: azure-storage-blob in c:\\users\\luk\\anaconda3\\lib\\site-packages (12.26.0)\n",
      "Requirement already satisfied: dotenv in c:\\users\\luk\\anaconda3\\lib\\site-packages (0.9.9)\n",
      "Requirement already satisfied: numpy>=1.26.0 in c:\\users\\luk\\anaconda3\\lib\\site-packages (from pandas) (1.26.4)\n",
      "Requirement already satisfied: python-dateutil>=2.8.2 in c:\\users\\luk\\anaconda3\\lib\\site-packages (from pandas) (2.9.0.post0)\n",
      "Requirement already satisfied: pytz>=2020.1 in c:\\users\\luk\\anaconda3\\lib\\site-packages (from pandas) (2024.1)\n",
      "Requirement already satisfied: tzdata>=2022.7 in c:\\users\\luk\\anaconda3\\lib\\site-packages (from pandas) (2023.3)\n",
      "Requirement already satisfied: azure-core>=1.30.0 in c:\\users\\luk\\anaconda3\\lib\\site-packages (from azure-storage-blob) (1.35.0)\n",
      "Requirement already satisfied: cryptography>=2.1.4 in c:\\users\\luk\\anaconda3\\lib\\site-packages (from azure-storage-blob) (43.0.0)\n",
      "Requirement already satisfied: typing-extensions>=4.6.0 in c:\\users\\luk\\anaconda3\\lib\\site-packages (from azure-storage-blob) (4.14.1)\n",
      "Requirement already satisfied: isodate>=0.6.1 in c:\\users\\luk\\anaconda3\\lib\\site-packages (from azure-storage-blob) (0.7.2)\n",
      "Requirement already satisfied: python-dotenv in c:\\users\\luk\\anaconda3\\lib\\site-packages (from dotenv) (0.21.0)\n",
      "Requirement already satisfied: requests>=2.21.0 in c:\\users\\luk\\anaconda3\\lib\\site-packages (from azure-core>=1.30.0->azure-storage-blob) (2.32.3)\n",
      "Requirement already satisfied: six>=1.11.0 in c:\\users\\luk\\anaconda3\\lib\\site-packages (from azure-core>=1.30.0->azure-storage-blob) (1.16.0)\n",
      "Requirement already satisfied: cffi>=1.12 in c:\\users\\luk\\anaconda3\\lib\\site-packages (from cryptography>=2.1.4->azure-storage-blob) (1.17.1)\n",
      "Requirement already satisfied: pycparser in c:\\users\\luk\\anaconda3\\lib\\site-packages (from cffi>=1.12->cryptography>=2.1.4->azure-storage-blob) (2.21)\n",
      "Requirement already satisfied: charset-normalizer<4,>=2 in c:\\users\\luk\\anaconda3\\lib\\site-packages (from requests>=2.21.0->azure-core>=1.30.0->azure-storage-blob) (3.3.2)\n",
      "Requirement already satisfied: idna<4,>=2.5 in c:\\users\\luk\\anaconda3\\lib\\site-packages (from requests>=2.21.0->azure-core>=1.30.0->azure-storage-blob) (3.7)\n",
      "Requirement already satisfied: urllib3<3,>=1.21.1 in c:\\users\\luk\\anaconda3\\lib\\site-packages (from requests>=2.21.0->azure-core>=1.30.0->azure-storage-blob) (2.5.0)\n",
      "Requirement already satisfied: certifi>=2017.4.17 in c:\\users\\luk\\anaconda3\\lib\\site-packages (from requests>=2.21.0->azure-core>=1.30.0->azure-storage-blob) (2025.7.14)\n",
      "Requirement already satisfied: python-dotenv in c:\\users\\luk\\anaconda3\\lib\\site-packages (0.21.0)\n"
     ]
    }
   ],
   "source": [
    "# Pandas, azure-storage-blob, dotenv\n",
    "\n",
    "%pip install pandas azure-storage-blob\n",
    "%pip install python-dotenv"
   ]
  },
  {
   "cell_type": "code",
   "execution_count": 2,
   "id": "7616f4a0",
   "metadata": {},
   "outputs": [],
   "source": [
    "import pandas as pd\n",
    "from azure.storage.blob import BlobServiceClient\n",
    "from dotenv import load_dotenv\n",
    "import os"
   ]
  },
  {
   "cell_type": "code",
   "execution_count": 3,
   "id": "066533ec",
   "metadata": {},
   "outputs": [
    {
     "name": "stdout",
     "output_type": "stream",
     "text": [
      "Data Extraction Successful\n"
     ]
    }
   ],
   "source": [
    "try:\n",
    "    data = pd.read_csv(r'dataset/bakerite_transaction.csv')\n",
    "    print('Data Extraction Successful')\n",
    "except Exception as e:\n",
    "    print(f\"An error occurred {e}\") "
   ]
  },
  {
   "cell_type": "code",
   "execution_count": 4,
   "id": "fe4e6ff4",
   "metadata": {},
   "outputs": [],
   "source": [
    "# Fill missing numeric values with the mean or median.\n",
    "\n",
    "numeric_columns = data.select_dtypes(include=['float64', 'int64']).columns\n",
    "for col in numeric_columns:\n",
    "    data.fillna({col: data[col].mean()}, inplace=True)  "
   ]
  },
  {
   "cell_type": "code",
   "execution_count": 5,
   "id": "4610db04",
   "metadata": {},
   "outputs": [],
   "source": [
    "# Fill missing string/object with 'Unknown'\n",
    "\n",
    "string_columns = data.select_dtypes(include=['object']).columns\n",
    "for col in string_columns:\n",
    "    data.fillna({col: 'Unknown'}, inplace=True)"
   ]
  },
  {
   "cell_type": "code",
   "execution_count": 6,
   "id": "d178bd4b",
   "metadata": {},
   "outputs": [],
   "source": [
    "data['Date'] = pd.to_datetime(data['Date']) "
   ]
  },
  {
   "cell_type": "code",
   "execution_count": 7,
   "id": "0b159f2d",
   "metadata": {},
   "outputs": [
    {
     "data": {
      "text/plain": [
       "Index(['Date', 'ProductName', 'Quantity', 'UnitPrice', 'StoreLocation',\n",
       "       'PaymentType', 'PromotionApplied', 'Weather', 'Temperature',\n",
       "       'StaffPerformanceRating', 'CustomerFeedback', 'DeliveryTime_min',\n",
       "       'OrderType', 'CustomerName', 'CustomerAddress', 'Customer_PhoneNumber',\n",
       "       'CustomerEmail', 'Staff_Name', 'Staff_Email', 'DayOfWeek',\n",
       "       'TotalSales'],\n",
       "      dtype='object')"
      ]
     },
     "execution_count": 7,
     "metadata": {},
     "output_type": "execute_result"
    }
   ],
   "source": [
    "data.columns"
   ]
  },
  {
   "cell_type": "code",
   "execution_count": 8,
   "id": "2d6eaac3",
   "metadata": {},
   "outputs": [],
   "source": [
    "# Products Table\n",
    "\n",
    "products = data[['ProductName']].drop_duplicates().reset_index(drop=True)\n",
    "products.index.name = 'ProductID'\n",
    "products = products.reset_index()"
   ]
  },
  {
   "cell_type": "code",
   "execution_count": null,
   "id": "e9269450",
   "metadata": {},
   "outputs": [],
   "source": [
    "# Customers Table\n",
    "\n",
    "customers = data[['CustomerName', 'CustomerAddress', 'Customer_PhoneNumber', 'CustomerEmail']].drop_duplicates().reset_index(drop=True)\n",
    "customers.index.name = 'CustomerID'\n",
    "customers = customers.reset_index()"
   ]
  },
  {
   "cell_type": "code",
   "execution_count": null,
   "id": "906b3266",
   "metadata": {},
   "outputs": [],
   "source": [
    "# Staff Table\n",
    "\n",
    "staff = data[['Staff_Name', 'Staff_Email']].drop_duplicates().reset_index(drop=True)\n",
    "staff.index.name = 'StaffID' \n",
    "staff = staff.reset_index()"
   ]
  },
  {
   "cell_type": "code",
   "execution_count": 11,
   "id": "ba915762",
   "metadata": {},
   "outputs": [],
   "source": [
    "transaction = data.merge(products, on=['ProductName'], how='left') \\\n",
    "                  .merge(customers, on=['CustomerName', 'CustomerAddress',      'Customer_PhoneNumber', 'CustomerEmail'], how='left') \\\n",
    "                  .merge(staff, on=['Staff_Name', 'Staff_Email'], how='left')\n",
    "\n",
    "transaction.index.name = 'TransactionID'\n",
    "transaction = transaction.reset_index() \\\n",
    "                        [['Date', 'TransactionID', 'ProductID', 'Quantity', 'UnitPrice', 'StoreLocation', 'PaymentType', 'PromotionApplied', 'Weather', 'Temperature','StaffPerformanceRating', 'CustomerFeedback', 'DeliveryTime_min', 'OrderType', 'CustomerID', 'StaffID', 'DayOfWeek', 'TotalSales']]"
   ]
  },
  {
   "cell_type": "code",
   "execution_count": 12,
   "id": "70b0c096",
   "metadata": {},
   "outputs": [
    {
     "name": "stdout",
     "output_type": "stream",
     "text": [
      "<class 'pandas.core.frame.DataFrame'>\n",
      "RangeIndex: 1005 entries, 0 to 1004\n",
      "Data columns (total 18 columns):\n",
      " #   Column                  Non-Null Count  Dtype         \n",
      "---  ------                  --------------  -----         \n",
      " 0   Date                    1005 non-null   datetime64[ns]\n",
      " 1   TransactionID           1005 non-null   int64         \n",
      " 2   ProductID               1005 non-null   int64         \n",
      " 3   Quantity                1005 non-null   int64         \n",
      " 4   UnitPrice               1005 non-null   float64       \n",
      " 5   StoreLocation           1005 non-null   object        \n",
      " 6   PaymentType             1005 non-null   object        \n",
      " 7   PromotionApplied        1005 non-null   bool          \n",
      " 8   Weather                 1005 non-null   object        \n",
      " 9   Temperature             1005 non-null   float64       \n",
      " 10  StaffPerformanceRating  1005 non-null   object        \n",
      " 11  CustomerFeedback        1005 non-null   object        \n",
      " 12  DeliveryTime_min        1005 non-null   int64         \n",
      " 13  OrderType               1005 non-null   object        \n",
      " 14  CustomerID              1005 non-null   int64         \n",
      " 15  StaffID                 1005 non-null   int64         \n",
      " 16  DayOfWeek               1005 non-null   object        \n",
      " 17  TotalSales              1005 non-null   float64       \n",
      "dtypes: bool(1), datetime64[ns](1), float64(3), int64(6), object(7)\n",
      "memory usage: 134.6+ KB\n"
     ]
    }
   ],
   "source": [
    "transaction.info()"
   ]
  },
  {
   "cell_type": "code",
   "execution_count": null,
   "id": "988ad64b",
   "metadata": {},
   "outputs": [],
   "source": [
    "data.to_csv('clean_data.csv', index=False)\n",
    "products.to_csv('products.csv', index=False)\n",
    "customers.to_csv('customers.csv', index=False)\n",
    "staff.to_csv('staff.csv', index=False)\n",
    "transaction.to_csv('transactions.csv', index=False)"
   ]
  },
  {
   "cell_type": "code",
   "execution_count": null,
   "id": "7401aac3",
   "metadata": {},
   "outputs": [],
   "source": [
    "# Load variables from .env\n",
    "\n",
    "load_dotenv()\n",
    "\n",
    "connect_str = os.getenv('AZURE_STORAGE_CONNECTION_STRING')\n",
    "container_name = os.getenv('AZURE_CONTAINER_NAME')"
   ]
  },
  {
   "cell_type": "code",
   "execution_count": null,
   "id": "7ae5b7cc",
   "metadata": {},
   "outputs": [
    {
     "name": "stdout",
     "output_type": "stream",
     "text": [
      "rawdata/cleaned_bakerite_transaction_data.csv loaded into Azure Blob Storage\n",
      "cleandata/products.csv loaded into Azure Blob Storage\n",
      "cleandata/customers.csv loaded into Azure Blob Storage\n",
      "cleandata/staff.csv loaded into Azure Blob Storage\n",
      "cleandata/transaction.csv loaded into Azure Blob Storage\n"
     ]
    }
   ],
   "source": [
    "# Create a BlobServiceClient\n",
    "\n",
    "blob_service_client = BlobServiceClient.from_connection_string(connect_str)\n",
    "container_client = blob_service_client.get_container_client(container_name)\n",
    "\n",
    "# Loading data to Azure Blob Storage\n",
    "files = [\n",
    "    (data, 'rawdata/cleaned_bakerite_transaction_data.csv'),\n",
    "    (products, 'cleandata/products.csv'),\n",
    "    (customers, 'cleandata/customers.csv'),\n",
    "    (staff, 'cleandata/staff.csv'),\n",
    "    (transaction, 'cleandata/transaction.csv')\n",
    "]\n",
    "\n",
    "for file, blob_name in files:\n",
    "    blob_client = container_client.get_blob_client(blob_name)\n",
    "    output = file.to_csv(index=False)\n",
    "    blob_client.upload_blob(output, overwrite=True)\n",
    "    print(f'{blob_name} loaded into Azure Blob Storage')"
   ]
  }
 ],
 "metadata": {
  "kernelspec": {
   "display_name": "base",
   "language": "python",
   "name": "python3"
  },
  "language_info": {
   "codemirror_mode": {
    "name": "ipython",
    "version": 3
   },
   "file_extension": ".py",
   "mimetype": "text/x-python",
   "name": "python",
   "nbconvert_exporter": "python",
   "pygments_lexer": "ipython3",
   "version": "3.12.7"
  }
 },
 "nbformat": 4,
 "nbformat_minor": 5
}
